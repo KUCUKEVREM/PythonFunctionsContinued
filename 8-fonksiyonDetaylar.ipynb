{
 "cells": [
  {
   "cell_type": "code",
   "execution_count": 1,
   "id": "7d44bf0b",
   "metadata": {},
   "outputs": [],
   "source": [
    "def ikiyleCarp(numara):\n",
    "    return numara *2"
   ]
  },
  {
   "cell_type": "code",
   "execution_count": 2,
   "id": "643e2aca",
   "metadata": {},
   "outputs": [
    {
     "data": {
      "text/plain": [
       "40"
      ]
     },
     "execution_count": 2,
     "metadata": {},
     "output_type": "execute_result"
    }
   ],
   "source": [
    "ikiyleCarp(20)"
   ]
  },
  {
   "cell_type": "code",
   "execution_count": 3,
   "id": "f91093a7",
   "metadata": {},
   "outputs": [],
   "source": [
    "numara_listemiz = [10,20,30,40,50,60,70,80,90,100]"
   ]
  },
  {
   "cell_type": "code",
   "execution_count": 4,
   "id": "fa5b7040",
   "metadata": {},
   "outputs": [],
   "source": [
    "yeni_listemiz = []\n",
    "for eleman in numara_listemiz:\n",
    "    yeni_listemiz.append(ikiyleCarp(eleman))"
   ]
  },
  {
   "cell_type": "code",
   "execution_count": 5,
   "id": "d9e6407b",
   "metadata": {},
   "outputs": [
    {
     "data": {
      "text/plain": [
       "[20, 40, 60, 80, 100, 120, 140, 160, 180, 200]"
      ]
     },
     "execution_count": 5,
     "metadata": {},
     "output_type": "execute_result"
    }
   ],
   "source": [
    "yeni_listemiz"
   ]
  },
  {
   "cell_type": "code",
   "execution_count": 6,
   "id": "07d4c181",
   "metadata": {},
   "outputs": [],
   "source": [
    "#map"
   ]
  },
  {
   "cell_type": "code",
   "execution_count": 7,
   "id": "c579e32f",
   "metadata": {},
   "outputs": [
    {
     "name": "stdout",
     "output_type": "stream",
     "text": [
      "Help on class map in module builtins:\n",
      "\n",
      "class map(object)\n",
      " |  map(func, *iterables) --> map object\n",
      " |  \n",
      " |  Make an iterator that computes the function using arguments from\n",
      " |  each of the iterables.  Stops when the shortest iterable is exhausted.\n",
      " |  \n",
      " |  Methods defined here:\n",
      " |  \n",
      " |  __getattribute__(self, name, /)\n",
      " |      Return getattr(self, name).\n",
      " |  \n",
      " |  __iter__(self, /)\n",
      " |      Implement iter(self).\n",
      " |  \n",
      " |  __next__(self, /)\n",
      " |      Implement next(self).\n",
      " |  \n",
      " |  __reduce__(...)\n",
      " |      Return state information for pickling.\n",
      " |  \n",
      " |  ----------------------------------------------------------------------\n",
      " |  Static methods defined here:\n",
      " |  \n",
      " |  __new__(*args, **kwargs) from builtins.type\n",
      " |      Create and return a new object.  See help(type) for accurate signature.\n",
      "\n"
     ]
    }
   ],
   "source": [
    "help(map)"
   ]
  },
  {
   "cell_type": "code",
   "execution_count": 10,
   "id": "dd78382c",
   "metadata": {},
   "outputs": [],
   "source": [
    "en_yeni_list = list(map(ikiyleCarp,numara_listemiz))"
   ]
  },
  {
   "cell_type": "code",
   "execution_count": 11,
   "id": "66743793",
   "metadata": {},
   "outputs": [
    {
     "data": {
      "text/plain": [
       "[20, 40, 60, 80, 100, 120, 140, 160, 180, 200]"
      ]
     },
     "execution_count": 11,
     "metadata": {},
     "output_type": "execute_result"
    }
   ],
   "source": [
    "en_yeni_list"
   ]
  },
  {
   "cell_type": "code",
   "execution_count": 12,
   "id": "113a334d",
   "metadata": {},
   "outputs": [],
   "source": [
    "def stringKontrolü(s):\n",
    "    return \"merve\" in s"
   ]
  },
  {
   "cell_type": "code",
   "execution_count": 13,
   "id": "bb397b98",
   "metadata": {},
   "outputs": [
    {
     "data": {
      "text/plain": [
       "True"
      ]
     },
     "execution_count": 13,
     "metadata": {},
     "output_type": "execute_result"
    }
   ],
   "source": [
    "stringKontrolü(\"merve şimşek\")"
   ]
  },
  {
   "cell_type": "code",
   "execution_count": 14,
   "id": "6f8853d1",
   "metadata": {},
   "outputs": [
    {
     "data": {
      "text/plain": [
       "False"
      ]
     },
     "execution_count": 14,
     "metadata": {},
     "output_type": "execute_result"
    }
   ],
   "source": [
    "stringKontrolü(\"ali\")"
   ]
  },
  {
   "cell_type": "code",
   "execution_count": 15,
   "id": "551d8a74",
   "metadata": {},
   "outputs": [],
   "source": [
    "string_liste = [\"merve şimşek\", \"merve\", \"ali\"]"
   ]
  },
  {
   "cell_type": "code",
   "execution_count": 16,
   "id": "187ac7b5",
   "metadata": {},
   "outputs": [
    {
     "data": {
      "text/plain": [
       "[True, True, False]"
      ]
     },
     "execution_count": 16,
     "metadata": {},
     "output_type": "execute_result"
    }
   ],
   "source": [
    "list(map(stringKontrolü,string_liste))"
   ]
  },
  {
   "cell_type": "code",
   "execution_count": 17,
   "id": "15f23888",
   "metadata": {},
   "outputs": [],
   "source": [
    "#filter"
   ]
  },
  {
   "cell_type": "code",
   "execution_count": 18,
   "id": "c791c851",
   "metadata": {},
   "outputs": [
    {
     "data": {
      "text/plain": [
       "['merve şimşek', 'merve']"
      ]
     },
     "execution_count": 18,
     "metadata": {},
     "output_type": "execute_result"
    }
   ],
   "source": [
    "list(filter(stringKontrolü,string_liste))"
   ]
  },
  {
   "cell_type": "code",
   "execution_count": 19,
   "id": "25b6ed30",
   "metadata": {},
   "outputs": [],
   "source": [
    "#lambda"
   ]
  },
  {
   "cell_type": "code",
   "execution_count": 20,
   "id": "35904b47",
   "metadata": {},
   "outputs": [],
   "source": [
    "def ucleCarp(num):\n",
    "    return num *3"
   ]
  },
  {
   "cell_type": "code",
   "execution_count": 21,
   "id": "22fa61f9",
   "metadata": {},
   "outputs": [
    {
     "data": {
      "text/plain": [
       "60"
      ]
     },
     "execution_count": 21,
     "metadata": {},
     "output_type": "execute_result"
    }
   ],
   "source": [
    "ucleCarp(20)"
   ]
  },
  {
   "cell_type": "code",
   "execution_count": 22,
   "id": "4768c6f9",
   "metadata": {},
   "outputs": [],
   "source": [
    "carpma = lambda num : num *3"
   ]
  },
  {
   "cell_type": "code",
   "execution_count": 25,
   "id": "15190064",
   "metadata": {},
   "outputs": [
    {
     "data": {
      "text/plain": [
       "60"
      ]
     },
     "execution_count": 25,
     "metadata": {},
     "output_type": "execute_result"
    }
   ],
   "source": [
    "carpma(20)"
   ]
  },
  {
   "cell_type": "code",
   "execution_count": 26,
   "id": "3d6a3282",
   "metadata": {},
   "outputs": [
    {
     "data": {
      "text/plain": [
       "['merve şimşek', 'merve', 'ali']"
      ]
     },
     "execution_count": 26,
     "metadata": {},
     "output_type": "execute_result"
    }
   ],
   "source": [
    "string_liste"
   ]
  },
  {
   "cell_type": "code",
   "execution_count": 28,
   "id": "9acb358e",
   "metadata": {},
   "outputs": [
    {
     "data": {
      "text/plain": [
       "['merve şimşek', 'merve']"
      ]
     },
     "execution_count": 28,
     "metadata": {},
     "output_type": "execute_result"
    }
   ],
   "source": [
    "list(filter(lambda string: \"e\" in string,string_liste))"
   ]
  },
  {
   "cell_type": "code",
   "execution_count": null,
   "id": "ee5c98f5",
   "metadata": {},
   "outputs": [],
   "source": []
  }
 ],
 "metadata": {
  "kernelspec": {
   "display_name": "Python 3 (ipykernel)",
   "language": "python",
   "name": "python3"
  },
  "language_info": {
   "codemirror_mode": {
    "name": "ipython",
    "version": 3
   },
   "file_extension": ".py",
   "mimetype": "text/x-python",
   "name": "python",
   "nbconvert_exporter": "python",
   "pygments_lexer": "ipython3",
   "version": "3.9.12"
  }
 },
 "nbformat": 4,
 "nbformat_minor": 5
}
